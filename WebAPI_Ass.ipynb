{
 "cells": [
  {
   "cell_type": "markdown",
   "id": "2f8b35ef",
   "metadata": {},
   "source": [
    "# question1"
   ]
  },
  {
   "cell_type": "code",
   "execution_count": 1,
   "id": "fb6b1874",
   "metadata": {},
   "outputs": [],
   "source": [
    "# API :-stands for Application Programming interface\n",
    "# defination:- it is a set of rules and protocols that allow different software applications to communicate and interact with each other. "
   ]
  },
  {
   "cell_type": "code",
   "execution_count": 2,
   "id": "006b355c",
   "metadata": {},
   "outputs": [],
   "source": [
    "#  let's take a simple example: ordering food from a restaurant. When you use a food delivery app like Uber Eats or DoorDash, the app needs to communicate with the restaurant's system to place your order and get updates on its status. This communication is made possible through an API.\n",
    "\n",
    "# In this case, the food delivery app uses the restaurant's API to send the order details, such as the items you want, your address, and any special instructions. The API receives this information, processes it, and communicates with the restaurant's system to place the order. It then relays the order confirmation and updates back to the food delivery app, which in turn notifies you about the progress of your order.\n",
    "\n",
    "#  By using the API, the food delivery app and the restaurant's system can work together seamlessly without having to understand the internal workings of each other. The API defines the rules and format of the data that needs to be exchanged, allowing the two systems to communicate effectively."
   ]
  },
  {
   "cell_type": "markdown",
   "id": "87b567b8",
   "metadata": {},
   "source": [
    "# question 2"
   ]
  },
  {
   "cell_type": "code",
   "execution_count": 3,
   "id": "fd0357ef",
   "metadata": {},
   "outputs": [],
   "source": [
    "# advantage of API :\n",
    " # 1. Better User Experience: APIs can enable third-party developers to create applications that integrate with existing software systems, providing a better user experience and increased functionality.\n",
    " # 2. Increased Efficiency: APIs enable automation and streamline processes by allowing systems to communicate and share information seamlessly.\n",
    " # 3. Increased Flexibility: APIs provide developers with greater flexibility, enabling them to choose the best programming languages and frameworks for their needs.\n",
    "    \n",
    "    \n",
    "# divadvantage :-\n",
    " # 1. Dependency on External Systems: When using APIs, businesses become dependent on the availability, reliability, and performance of the external systems they interact with. \n",
    " # 2. Lack of Control: When relying on third-party APIs, businesses have limited control over the functionality, performance, and uptime of those APIs.\n",
    " # 3.Dependency on Third-Party Developers: APIs rely on third-party developers to create applications that integrate with the software system.\n",
    " # 4. Complexity: APIs can be complex, requiring a significant amount of development effort to implement and maintain\n"
   ]
  },
  {
   "cell_type": "markdown",
   "id": "1a495bcf",
   "metadata": {},
   "source": [
    "# question 3"
   ]
  },
  {
   "cell_type": "code",
   "execution_count": 4,
   "id": "ccd4756e",
   "metadata": {},
   "outputs": [],
   "source": [
    "# :- A Web API also known as a Web Service API or HTTP API, is a specific type of API that is designed to be accessed over the web using the HTTP protocol. It enables communication and data exchange between different software systems or applications using standard web technologies."
   ]
  },
  {
   "cell_type": "markdown",
   "id": "02814e33",
   "metadata": {},
   "source": [
    "# difference"
   ]
  },
  {
   "cell_type": "code",
   "execution_count": 5,
   "id": "7a9afd1b",
   "metadata": {},
   "outputs": [],
   "source": [
    "# API :-1. An API (Application Programming Interface) is a general term that refers to a set of rules and protocols that allow software applications to communicate and interact with each other.\n",
    "  # 2. APIs can come in different forms, such as library APIs, operating system APIs, database APIs, and web APIs.\n",
    "  # 3. APIs can use various protocols for communication, including HTTP, TCP/IP, SOAP, REST, and more.\n",
    "\n",
    "\n",
    "# WEB-API :- 1. A Web API is a specific type of API that is accessed over the web using the HTTP protocol.\n",
    "  # 2. Web APIs are typically designed to provide web services, allowing applications to retrieve or manipulate data over the internet.\n",
    "  # 3. Web APIs often use the REST (Representational State Transfer) architectural style, which leverages the HTTP methods (GET, POST, PUT, DELETE) to perform operations on resources identified by URLs (Uniform Resource Locators).\n"
   ]
  },
  {
   "cell_type": "markdown",
   "id": "fbb39997",
   "metadata": {},
   "source": [
    "# question 4"
   ]
  },
  {
   "cell_type": "code",
   "execution_count": 6,
   "id": "7562a21f",
   "metadata": {},
   "outputs": [],
   "source": [
    "# REST ;- stands for representatinal State Transfer\n",
    "# Soap:- stands for Simple Object Access Protocall\n",
    "# these both are two different architectural\n"
   ]
  },
  {
   "cell_type": "markdown",
   "id": "75a67e6d",
   "metadata": {},
   "source": [
    "# REST"
   ]
  },
  {
   "cell_type": "code",
   "execution_count": 7,
   "id": "50efa6b0",
   "metadata": {},
   "outputs": [],
   "source": [
    "# 1. REST is an architectural style that is based on a set of principles for designing networked applications.\n",
    "# 2. RESTful services use standard HTTP methods (GET, POST, PUT, DELETE) to perform operations on resources.\n",
    "# 3. Resources are identified by URLs (Uniform Resource Locators), and interactions with these resources are stateless.\n",
    "# 4. REST emphasizes simplicity, scalability, and the use of existing web standards like HTTP and URIs.\n",
    "# 5. It is commonly used for building APIs that are lightweight, flexible, and easy to consume"
   ]
  },
  {
   "cell_type": "markdown",
   "id": "b1f8ea67",
   "metadata": {},
   "source": [
    "# SOAP"
   ]
  },
  {
   "cell_type": "code",
   "execution_count": 8,
   "id": "231ab722",
   "metadata": {},
   "outputs": [],
   "source": [
    "# 1. It uses XML (eXtensible Markup Language) for message formatting and relies on protocols like HTTP, SMTP, or others for communication.\n",
    "# 2. SOAP messages are typically transported over HTTP, but other protocols can also be used.\n",
    "# 3. SOAP provides a standardized way to define the structure and format of messages using WSDL (Web Services Description Language).\n",
    "# 4. It supports advanced features like security, reliable messaging, and transaction management"
   ]
  },
  {
   "cell_type": "markdown",
   "id": "dde99a59",
   "metadata": {},
   "source": [
    "# Shortcomings of SOAP"
   ]
  },
  {
   "cell_type": "code",
   "execution_count": 9,
   "id": "09bc9d5a",
   "metadata": {},
   "outputs": [],
   "source": [
    "# 1. Complexity: SOAP is generally more complex than REST. It requires more extensive XML parsing and has a steep learning curve for developers\n",
    "# 2. Less Caching: SOAP messages are typically not as cache-friendly as REST due to the dynamic nature of the XML content.\n",
    "# 3. Limited Language Support: SOAP has more limited language support compared to REST. RESTful APIs can be easily consumed by any language that supports HTTP, whereas SOAP often requires specific libraries or frameworks for implementation."
   ]
  },
  {
   "cell_type": "markdown",
   "id": "26ada30c",
   "metadata": {},
   "source": [
    "# question 5"
   ]
  },
  {
   "cell_type": "markdown",
   "id": "d346d8ca",
   "metadata": {},
   "source": [
    "\n",
    "# difference btw REST and SOAP\n"
   ]
  },
  {
   "cell_type": "markdown",
   "id": "3a0fab68",
   "metadata": {},
   "source": [
    "# 1. Architectural style :-\n"
   ]
  },
  {
   "cell_type": "code",
   "execution_count": 10,
   "id": "c3a598f1",
   "metadata": {},
   "outputs": [],
   "source": [
    "# REST:- REST is an architectural style that uses standard HTTP methods (GET, POST, PUT, DELETE) to perform operations on resources. It emphasizes simplicity, scalability, and leveraging existing web standards.\n",
    "# SOAP:-  SOAP is a protocol that defines a strict set of rules for structuring messages and communication between systems. It provides a more rigid and standardized approach to web services.\n"
   ]
  },
  {
   "cell_type": "markdown",
   "id": "271b7069",
   "metadata": {},
   "source": [
    "# 2. Message Format"
   ]
  },
  {
   "cell_type": "code",
   "execution_count": 11,
   "id": "484c2d29",
   "metadata": {},
   "outputs": [],
   "source": [
    "# REST:- REST typically uses lightweight data formats such as JSON (JavaScript Object Notation) or XML (eXtensible Markup Language) for message formatting. JSON is widely used due to its simplicity and ease of parsing.\n",
    "# SOAP:- SOAP messages are formatted using XML. XML provides a more structured and verbose way to represent data."
   ]
  },
  {
   "cell_type": "markdown",
   "id": "dc7eefca",
   "metadata": {},
   "source": [
    "# 3.Protocall"
   ]
  },
  {
   "cell_type": "code",
   "execution_count": null,
   "id": "ac4360b7",
   "metadata": {},
   "outputs": [],
   "source": [
    "# REST:- REST commonly uses HTTP as its protocol. It leverages the existing capabilities of HTTP, such as caching, headers, and status codes, to enable stateless communication between the client and server.\n",
    "# SOAP:- SOAP messages can be transported over various protocols, including HTTP, SMTP, and others. While HTTP is commonly used, SOAP is more flexible in terms of protocol choice."
   ]
  }
 ],
 "metadata": {
  "kernelspec": {
   "display_name": "Python 3 (ipykernel)",
   "language": "python",
   "name": "python3"
  },
  "language_info": {
   "codemirror_mode": {
    "name": "ipython",
    "version": 3
   },
   "file_extension": ".py",
   "mimetype": "text/x-python",
   "name": "python",
   "nbconvert_exporter": "python",
   "pygments_lexer": "ipython3",
   "version": "3.11.3"
  }
 },
 "nbformat": 4,
 "nbformat_minor": 5
}
